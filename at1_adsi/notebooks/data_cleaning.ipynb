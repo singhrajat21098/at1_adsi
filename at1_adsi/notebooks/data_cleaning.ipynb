{
 "cells": [
  {
   "cell_type": "code",
   "execution_count": 63,
   "metadata": {},
   "outputs": [],
   "source": [
    "import pandas as pd \n",
    "import seaborn as sns"
   ]
  },
  {
   "cell_type": "code",
   "execution_count": 64,
   "metadata": {},
   "outputs": [],
   "source": [
    "import sys\n",
    "sys.path.append('../utils')\n",
    "from data_cleaning_utils import removeOutliers\n"
   ]
  },
  {
   "cell_type": "code",
   "execution_count": 65,
   "metadata": {},
   "outputs": [],
   "source": [
    "# importing the train dataset from the data/raw folder\n",
    "data = pd.read_csv('../data/raw/nba_train.csv')"
   ]
  },
  {
   "cell_type": "code",
   "execution_count": 66,
   "metadata": {},
   "outputs": [
    {
     "data": {
      "text/html": [
       "<div>\n",
       "<style scoped>\n",
       "    .dataframe tbody tr th:only-of-type {\n",
       "        vertical-align: middle;\n",
       "    }\n",
       "\n",
       "    .dataframe tbody tr th {\n",
       "        vertical-align: top;\n",
       "    }\n",
       "\n",
       "    .dataframe thead th {\n",
       "        text-align: right;\n",
       "    }\n",
       "</style>\n",
       "<table border=\"1\" class=\"dataframe\">\n",
       "  <thead>\n",
       "    <tr style=\"text-align: right;\">\n",
       "      <th></th>\n",
       "      <th>Id</th>\n",
       "      <th>GP</th>\n",
       "      <th>MIN</th>\n",
       "      <th>PTS</th>\n",
       "      <th>FGM</th>\n",
       "      <th>FGA</th>\n",
       "      <th>FG%</th>\n",
       "      <th>3P Made</th>\n",
       "      <th>3PA</th>\n",
       "      <th>3P%</th>\n",
       "      <th>...</th>\n",
       "      <th>FTA</th>\n",
       "      <th>FT%</th>\n",
       "      <th>OREB</th>\n",
       "      <th>DREB</th>\n",
       "      <th>REB</th>\n",
       "      <th>AST</th>\n",
       "      <th>STL</th>\n",
       "      <th>BLK</th>\n",
       "      <th>TOV</th>\n",
       "      <th>TARGET_5Yrs</th>\n",
       "    </tr>\n",
       "  </thead>\n",
       "  <tbody>\n",
       "    <tr>\n",
       "      <th>0</th>\n",
       "      <td>3799</td>\n",
       "      <td>80</td>\n",
       "      <td>24.3</td>\n",
       "      <td>7.8</td>\n",
       "      <td>3.0</td>\n",
       "      <td>6.4</td>\n",
       "      <td>45.7</td>\n",
       "      <td>0.1</td>\n",
       "      <td>0.3</td>\n",
       "      <td>22.6</td>\n",
       "      <td>...</td>\n",
       "      <td>2.9</td>\n",
       "      <td>72.1</td>\n",
       "      <td>2.2</td>\n",
       "      <td>2.0</td>\n",
       "      <td>3.8</td>\n",
       "      <td>3.2</td>\n",
       "      <td>1.1</td>\n",
       "      <td>0.2</td>\n",
       "      <td>1.6</td>\n",
       "      <td>1</td>\n",
       "    </tr>\n",
       "    <tr>\n",
       "      <th>1</th>\n",
       "      <td>3800</td>\n",
       "      <td>75</td>\n",
       "      <td>21.8</td>\n",
       "      <td>10.5</td>\n",
       "      <td>4.2</td>\n",
       "      <td>7.9</td>\n",
       "      <td>55.1</td>\n",
       "      <td>-0.3</td>\n",
       "      <td>-1.0</td>\n",
       "      <td>34.9</td>\n",
       "      <td>...</td>\n",
       "      <td>3.6</td>\n",
       "      <td>67.8</td>\n",
       "      <td>3.6</td>\n",
       "      <td>3.7</td>\n",
       "      <td>6.6</td>\n",
       "      <td>0.7</td>\n",
       "      <td>0.5</td>\n",
       "      <td>0.6</td>\n",
       "      <td>1.4</td>\n",
       "      <td>1</td>\n",
       "    </tr>\n",
       "    <tr>\n",
       "      <th>2</th>\n",
       "      <td>3801</td>\n",
       "      <td>85</td>\n",
       "      <td>19.1</td>\n",
       "      <td>4.5</td>\n",
       "      <td>1.9</td>\n",
       "      <td>4.5</td>\n",
       "      <td>42.8</td>\n",
       "      <td>0.4</td>\n",
       "      <td>1.2</td>\n",
       "      <td>34.3</td>\n",
       "      <td>...</td>\n",
       "      <td>0.6</td>\n",
       "      <td>75.7</td>\n",
       "      <td>0.6</td>\n",
       "      <td>1.8</td>\n",
       "      <td>2.4</td>\n",
       "      <td>0.8</td>\n",
       "      <td>0.4</td>\n",
       "      <td>0.2</td>\n",
       "      <td>0.6</td>\n",
       "      <td>1</td>\n",
       "    </tr>\n",
       "    <tr>\n",
       "      <th>3</th>\n",
       "      <td>3802</td>\n",
       "      <td>63</td>\n",
       "      <td>19.1</td>\n",
       "      <td>8.2</td>\n",
       "      <td>3.5</td>\n",
       "      <td>6.7</td>\n",
       "      <td>52.5</td>\n",
       "      <td>0.3</td>\n",
       "      <td>0.8</td>\n",
       "      <td>23.7</td>\n",
       "      <td>...</td>\n",
       "      <td>1.5</td>\n",
       "      <td>66.9</td>\n",
       "      <td>0.8</td>\n",
       "      <td>2.0</td>\n",
       "      <td>3.0</td>\n",
       "      <td>1.8</td>\n",
       "      <td>0.4</td>\n",
       "      <td>0.1</td>\n",
       "      <td>1.9</td>\n",
       "      <td>1</td>\n",
       "    </tr>\n",
       "    <tr>\n",
       "      <th>4</th>\n",
       "      <td>3803</td>\n",
       "      <td>63</td>\n",
       "      <td>17.8</td>\n",
       "      <td>3.7</td>\n",
       "      <td>1.7</td>\n",
       "      <td>3.4</td>\n",
       "      <td>50.8</td>\n",
       "      <td>0.5</td>\n",
       "      <td>1.4</td>\n",
       "      <td>13.7</td>\n",
       "      <td>...</td>\n",
       "      <td>0.5</td>\n",
       "      <td>54.0</td>\n",
       "      <td>2.4</td>\n",
       "      <td>2.7</td>\n",
       "      <td>4.9</td>\n",
       "      <td>0.4</td>\n",
       "      <td>0.4</td>\n",
       "      <td>0.6</td>\n",
       "      <td>0.7</td>\n",
       "      <td>1</td>\n",
       "    </tr>\n",
       "  </tbody>\n",
       "</table>\n",
       "<p>5 rows × 21 columns</p>\n",
       "</div>"
      ],
      "text/plain": [
       "     Id  GP   MIN   PTS  FGM  FGA   FG%  3P Made  3PA   3P%  ...  FTA   FT%  \\\n",
       "0  3799  80  24.3   7.8  3.0  6.4  45.7      0.1  0.3  22.6  ...  2.9  72.1   \n",
       "1  3800  75  21.8  10.5  4.2  7.9  55.1     -0.3 -1.0  34.9  ...  3.6  67.8   \n",
       "2  3801  85  19.1   4.5  1.9  4.5  42.8      0.4  1.2  34.3  ...  0.6  75.7   \n",
       "3  3802  63  19.1   8.2  3.5  6.7  52.5      0.3  0.8  23.7  ...  1.5  66.9   \n",
       "4  3803  63  17.8   3.7  1.7  3.4  50.8      0.5  1.4  13.7  ...  0.5  54.0   \n",
       "\n",
       "   OREB  DREB  REB  AST  STL  BLK  TOV  TARGET_5Yrs  \n",
       "0   2.2   2.0  3.8  3.2  1.1  0.2  1.6            1  \n",
       "1   3.6   3.7  6.6  0.7  0.5  0.6  1.4            1  \n",
       "2   0.6   1.8  2.4  0.8  0.4  0.2  0.6            1  \n",
       "3   0.8   2.0  3.0  1.8  0.4  0.1  1.9            1  \n",
       "4   2.4   2.7  4.9  0.4  0.4  0.6  0.7            1  \n",
       "\n",
       "[5 rows x 21 columns]"
      ]
     },
     "execution_count": 66,
     "metadata": {},
     "output_type": "execute_result"
    }
   ],
   "source": [
    "data.head()"
   ]
  },
  {
   "cell_type": "code",
   "execution_count": 67,
   "metadata": {},
   "outputs": [
    {
     "data": {
      "text/plain": [
       "Index(['Id', 'GP', 'MIN', 'PTS', 'FGM', 'FGA', 'FG%', '3P Made', '3PA', '3P%',\n",
       "       'FTM', 'FTA', 'FT%', 'OREB', 'DREB', 'REB', 'AST', 'STL', 'BLK', 'TOV',\n",
       "       'TARGET_5Yrs'],\n",
       "      dtype='object')"
      ]
     },
     "execution_count": 67,
     "metadata": {},
     "output_type": "execute_result"
    }
   ],
   "source": [
    "# Listing all the columns in the dataset \n",
    "\n",
    "data.columns"
   ]
  },
  {
   "cell_type": "code",
   "execution_count": 68,
   "metadata": {},
   "outputs": [
    {
     "data": {
      "text/html": [
       "<div>\n",
       "<style scoped>\n",
       "    .dataframe tbody tr th:only-of-type {\n",
       "        vertical-align: middle;\n",
       "    }\n",
       "\n",
       "    .dataframe tbody tr th {\n",
       "        vertical-align: top;\n",
       "    }\n",
       "\n",
       "    .dataframe thead th {\n",
       "        text-align: right;\n",
       "    }\n",
       "</style>\n",
       "<table border=\"1\" class=\"dataframe\">\n",
       "  <thead>\n",
       "    <tr style=\"text-align: right;\">\n",
       "      <th></th>\n",
       "      <th>Id</th>\n",
       "      <th>GP</th>\n",
       "      <th>MIN</th>\n",
       "      <th>PTS</th>\n",
       "      <th>FGM</th>\n",
       "      <th>FGA</th>\n",
       "      <th>FG%</th>\n",
       "      <th>3P Made</th>\n",
       "      <th>3PA</th>\n",
       "      <th>3P%</th>\n",
       "      <th>...</th>\n",
       "      <th>FTA</th>\n",
       "      <th>FT%</th>\n",
       "      <th>OREB</th>\n",
       "      <th>DREB</th>\n",
       "      <th>REB</th>\n",
       "      <th>AST</th>\n",
       "      <th>STL</th>\n",
       "      <th>BLK</th>\n",
       "      <th>TOV</th>\n",
       "      <th>TARGET_5Yrs</th>\n",
       "    </tr>\n",
       "  </thead>\n",
       "  <tbody>\n",
       "    <tr>\n",
       "      <th>count</th>\n",
       "      <td>8000.00000</td>\n",
       "      <td>8000.000000</td>\n",
       "      <td>8000.000000</td>\n",
       "      <td>8000.000000</td>\n",
       "      <td>8000.000000</td>\n",
       "      <td>8000.000000</td>\n",
       "      <td>8000.000000</td>\n",
       "      <td>8000.000000</td>\n",
       "      <td>8000.000000</td>\n",
       "      <td>8000.000000</td>\n",
       "      <td>...</td>\n",
       "      <td>8000.000000</td>\n",
       "      <td>8000.000000</td>\n",
       "      <td>8000.000000</td>\n",
       "      <td>8000.000000</td>\n",
       "      <td>8000.000000</td>\n",
       "      <td>8000.000000</td>\n",
       "      <td>8000.000000</td>\n",
       "      <td>8000.000000</td>\n",
       "      <td>8000.000000</td>\n",
       "      <td>8000.000000</td>\n",
       "    </tr>\n",
       "    <tr>\n",
       "      <th>mean</th>\n",
       "      <td>7798.50000</td>\n",
       "      <td>62.777875</td>\n",
       "      <td>18.576662</td>\n",
       "      <td>7.267088</td>\n",
       "      <td>2.807037</td>\n",
       "      <td>6.231212</td>\n",
       "      <td>44.608900</td>\n",
       "      <td>0.264525</td>\n",
       "      <td>0.816562</td>\n",
       "      <td>19.583700</td>\n",
       "      <td>...</td>\n",
       "      <td>1.947788</td>\n",
       "      <td>71.365825</td>\n",
       "      <td>1.077838</td>\n",
       "      <td>2.168500</td>\n",
       "      <td>3.245300</td>\n",
       "      <td>1.624513</td>\n",
       "      <td>0.648687</td>\n",
       "      <td>0.245212</td>\n",
       "      <td>1.257763</td>\n",
       "      <td>0.833625</td>\n",
       "    </tr>\n",
       "    <tr>\n",
       "      <th>std</th>\n",
       "      <td>2309.54541</td>\n",
       "      <td>17.118774</td>\n",
       "      <td>8.935263</td>\n",
       "      <td>4.318732</td>\n",
       "      <td>1.693373</td>\n",
       "      <td>3.584559</td>\n",
       "      <td>6.155453</td>\n",
       "      <td>0.384093</td>\n",
       "      <td>1.060964</td>\n",
       "      <td>16.003155</td>\n",
       "      <td>...</td>\n",
       "      <td>1.252352</td>\n",
       "      <td>10.430447</td>\n",
       "      <td>0.785670</td>\n",
       "      <td>1.392224</td>\n",
       "      <td>2.085154</td>\n",
       "      <td>1.355986</td>\n",
       "      <td>0.407626</td>\n",
       "      <td>0.821037</td>\n",
       "      <td>0.723270</td>\n",
       "      <td>0.372440</td>\n",
       "    </tr>\n",
       "    <tr>\n",
       "      <th>min</th>\n",
       "      <td>3799.00000</td>\n",
       "      <td>-8.000000</td>\n",
       "      <td>2.900000</td>\n",
       "      <td>0.800000</td>\n",
       "      <td>0.300000</td>\n",
       "      <td>0.800000</td>\n",
       "      <td>21.300000</td>\n",
       "      <td>-1.100000</td>\n",
       "      <td>-3.100000</td>\n",
       "      <td>-38.500000</td>\n",
       "      <td>...</td>\n",
       "      <td>0.000000</td>\n",
       "      <td>-13.300000</td>\n",
       "      <td>0.000000</td>\n",
       "      <td>0.200000</td>\n",
       "      <td>0.300000</td>\n",
       "      <td>0.000000</td>\n",
       "      <td>0.000000</td>\n",
       "      <td>-17.900000</td>\n",
       "      <td>0.100000</td>\n",
       "      <td>0.000000</td>\n",
       "    </tr>\n",
       "    <tr>\n",
       "      <th>25%</th>\n",
       "      <td>5798.75000</td>\n",
       "      <td>51.000000</td>\n",
       "      <td>12.000000</td>\n",
       "      <td>4.100000</td>\n",
       "      <td>1.600000</td>\n",
       "      <td>3.600000</td>\n",
       "      <td>40.400000</td>\n",
       "      <td>0.000000</td>\n",
       "      <td>0.100000</td>\n",
       "      <td>8.400000</td>\n",
       "      <td>...</td>\n",
       "      <td>1.000000</td>\n",
       "      <td>65.000000</td>\n",
       "      <td>0.500000</td>\n",
       "      <td>1.100000</td>\n",
       "      <td>1.700000</td>\n",
       "      <td>0.700000</td>\n",
       "      <td>0.300000</td>\n",
       "      <td>0.100000</td>\n",
       "      <td>0.700000</td>\n",
       "      <td>1.000000</td>\n",
       "    </tr>\n",
       "    <tr>\n",
       "      <th>50%</th>\n",
       "      <td>7798.50000</td>\n",
       "      <td>63.000000</td>\n",
       "      <td>16.800000</td>\n",
       "      <td>6.300000</td>\n",
       "      <td>2.400000</td>\n",
       "      <td>5.400000</td>\n",
       "      <td>44.400000</td>\n",
       "      <td>0.300000</td>\n",
       "      <td>0.800000</td>\n",
       "      <td>19.500000</td>\n",
       "      <td>...</td>\n",
       "      <td>1.700000</td>\n",
       "      <td>71.400000</td>\n",
       "      <td>0.900000</td>\n",
       "      <td>1.900000</td>\n",
       "      <td>2.800000</td>\n",
       "      <td>1.300000</td>\n",
       "      <td>0.600000</td>\n",
       "      <td>0.200000</td>\n",
       "      <td>1.100000</td>\n",
       "      <td>1.000000</td>\n",
       "    </tr>\n",
       "    <tr>\n",
       "      <th>75%</th>\n",
       "      <td>9798.25000</td>\n",
       "      <td>74.000000</td>\n",
       "      <td>23.500000</td>\n",
       "      <td>9.500000</td>\n",
       "      <td>3.700000</td>\n",
       "      <td>8.100000</td>\n",
       "      <td>48.700000</td>\n",
       "      <td>0.500000</td>\n",
       "      <td>1.500000</td>\n",
       "      <td>30.600000</td>\n",
       "      <td>...</td>\n",
       "      <td>2.600000</td>\n",
       "      <td>77.500000</td>\n",
       "      <td>1.500000</td>\n",
       "      <td>2.900000</td>\n",
       "      <td>4.300000</td>\n",
       "      <td>2.200000</td>\n",
       "      <td>0.900000</td>\n",
       "      <td>0.400000</td>\n",
       "      <td>1.600000</td>\n",
       "      <td>1.000000</td>\n",
       "    </tr>\n",
       "    <tr>\n",
       "      <th>max</th>\n",
       "      <td>11798.00000</td>\n",
       "      <td>123.000000</td>\n",
       "      <td>73.800000</td>\n",
       "      <td>34.200000</td>\n",
       "      <td>13.100000</td>\n",
       "      <td>28.900000</td>\n",
       "      <td>67.200000</td>\n",
       "      <td>1.700000</td>\n",
       "      <td>4.700000</td>\n",
       "      <td>82.100000</td>\n",
       "      <td>...</td>\n",
       "      <td>11.100000</td>\n",
       "      <td>168.900000</td>\n",
       "      <td>5.500000</td>\n",
       "      <td>11.000000</td>\n",
       "      <td>15.900000</td>\n",
       "      <td>12.800000</td>\n",
       "      <td>3.600000</td>\n",
       "      <td>18.900000</td>\n",
       "      <td>5.300000</td>\n",
       "      <td>1.000000</td>\n",
       "    </tr>\n",
       "  </tbody>\n",
       "</table>\n",
       "<p>8 rows × 21 columns</p>\n",
       "</div>"
      ],
      "text/plain": [
       "                Id           GP          MIN          PTS          FGM  \\\n",
       "count   8000.00000  8000.000000  8000.000000  8000.000000  8000.000000   \n",
       "mean    7798.50000    62.777875    18.576662     7.267088     2.807037   \n",
       "std     2309.54541    17.118774     8.935263     4.318732     1.693373   \n",
       "min     3799.00000    -8.000000     2.900000     0.800000     0.300000   \n",
       "25%     5798.75000    51.000000    12.000000     4.100000     1.600000   \n",
       "50%     7798.50000    63.000000    16.800000     6.300000     2.400000   \n",
       "75%     9798.25000    74.000000    23.500000     9.500000     3.700000   \n",
       "max    11798.00000   123.000000    73.800000    34.200000    13.100000   \n",
       "\n",
       "               FGA          FG%      3P Made          3PA          3P%  ...  \\\n",
       "count  8000.000000  8000.000000  8000.000000  8000.000000  8000.000000  ...   \n",
       "mean      6.231212    44.608900     0.264525     0.816562    19.583700  ...   \n",
       "std       3.584559     6.155453     0.384093     1.060964    16.003155  ...   \n",
       "min       0.800000    21.300000    -1.100000    -3.100000   -38.500000  ...   \n",
       "25%       3.600000    40.400000     0.000000     0.100000     8.400000  ...   \n",
       "50%       5.400000    44.400000     0.300000     0.800000    19.500000  ...   \n",
       "75%       8.100000    48.700000     0.500000     1.500000    30.600000  ...   \n",
       "max      28.900000    67.200000     1.700000     4.700000    82.100000  ...   \n",
       "\n",
       "               FTA          FT%         OREB         DREB          REB  \\\n",
       "count  8000.000000  8000.000000  8000.000000  8000.000000  8000.000000   \n",
       "mean      1.947788    71.365825     1.077838     2.168500     3.245300   \n",
       "std       1.252352    10.430447     0.785670     1.392224     2.085154   \n",
       "min       0.000000   -13.300000     0.000000     0.200000     0.300000   \n",
       "25%       1.000000    65.000000     0.500000     1.100000     1.700000   \n",
       "50%       1.700000    71.400000     0.900000     1.900000     2.800000   \n",
       "75%       2.600000    77.500000     1.500000     2.900000     4.300000   \n",
       "max      11.100000   168.900000     5.500000    11.000000    15.900000   \n",
       "\n",
       "               AST          STL          BLK          TOV  TARGET_5Yrs  \n",
       "count  8000.000000  8000.000000  8000.000000  8000.000000  8000.000000  \n",
       "mean      1.624513     0.648687     0.245212     1.257763     0.833625  \n",
       "std       1.355986     0.407626     0.821037     0.723270     0.372440  \n",
       "min       0.000000     0.000000   -17.900000     0.100000     0.000000  \n",
       "25%       0.700000     0.300000     0.100000     0.700000     1.000000  \n",
       "50%       1.300000     0.600000     0.200000     1.100000     1.000000  \n",
       "75%       2.200000     0.900000     0.400000     1.600000     1.000000  \n",
       "max      12.800000     3.600000    18.900000     5.300000     1.000000  \n",
       "\n",
       "[8 rows x 21 columns]"
      ]
     },
     "execution_count": 68,
     "metadata": {},
     "output_type": "execute_result"
    }
   ],
   "source": [
    "# Description of Data \n",
    "\n",
    "data.describe()"
   ]
  },
  {
   "cell_type": "code",
   "execution_count": 69,
   "metadata": {},
   "outputs": [],
   "source": [
    "# Let's analyse every column one by one"
   ]
  },
  {
   "cell_type": "code",
   "execution_count": 70,
   "metadata": {},
   "outputs": [],
   "source": [
    "# Column 1: Id\n",
    "\n",
    "# ID is just a player ID that identifies for each player. It is not useful for our analysis. So we will drop it.\n",
    "\n",
    "data.drop('Id', axis=1, inplace=True)"
   ]
  },
  {
   "cell_type": "code",
   "execution_count": 71,
   "metadata": {},
   "outputs": [
    {
     "name": "stderr",
     "output_type": "stream",
     "text": [
      "C:\\Users\\Rajat\\AppData\\Local\\Temp\\ipykernel_27740\\3367672888.py:5: UserWarning: \n",
      "\n",
      "`distplot` is a deprecated function and will be removed in seaborn v0.14.0.\n",
      "\n",
      "Please adapt your code to use either `displot` (a figure-level function with\n",
      "similar flexibility) or `histplot` (an axes-level function for histograms).\n",
      "\n",
      "For a guide to updating your code to use the new functions, please see\n",
      "https://gist.github.com/mwaskom/de44147ed2974457ad6372750bbe5751\n",
      "\n",
      "  sns.distplot(data['GP'])\n"
     ]
    },
    {
     "data": {
      "text/plain": [
       "<Axes: xlabel='GP', ylabel='Density'>"
      ]
     },
     "execution_count": 71,
     "metadata": {},
     "output_type": "execute_result"
    },
    {
     "data": {
      "image/png": "[encoded data removed]",
      "text/plain": [
       "<Figure size 640x480 with 1 Axes>"
      ]
     },
     "metadata": {},
     "output_type": "display_data"
    }
   ],
   "source": [
    "# Column 2: GP\n",
    "\n",
    "# GP is the number of games played by the player. It is a numerical column. Let's see the distribution of the column.\n",
    "\n",
    "sns.distplot(data['GP'])\n"
   ]
  },
  {
   "cell_type": "code",
   "execution_count": 72,
   "metadata": {},
   "outputs": [
    {
     "data": {
      "text/plain": [
       "count    8000.000000\n",
       "mean       62.777875\n",
       "std        17.118774\n",
       "min        -8.000000\n",
       "25%        51.000000\n",
       "50%        63.000000\n",
       "75%        74.000000\n",
       "max       123.000000\n",
       "Name: GP, dtype: float64"
      ]
     },
     "execution_count": 72,
     "metadata": {},
     "output_type": "execute_result"
    }
   ],
   "source": [
    "# Describe Game Played \n",
    "\n",
    "data['GP'].describe()"
   ]
  },
  {
   "cell_type": "code",
   "execution_count": 73,
   "metadata": {},
   "outputs": [],
   "source": [
    "# Some values of Games Played are less than 0. This is not possible. So we will drop those rows.\n",
    "\n",
    "data = data[data['GP'] > 0]"
   ]
  },
  {
   "cell_type": "code",
   "execution_count": 74,
   "metadata": {},
   "outputs": [],
   "source": [
    "# removing outliers from the column\n",
    "\n",
    "data = removeOutliers(data, 'GP', 3)"
   ]
  },
  {
   "cell_type": "code",
   "execution_count": 75,
   "metadata": {},
   "outputs": [
    {
     "name": "stderr",
     "output_type": "stream",
     "text": [
      "C:\\Users\\Rajat\\AppData\\Local\\Temp\\ipykernel_27740\\3628024462.py:5: UserWarning: \n",
      "\n",
      "`distplot` is a deprecated function and will be removed in seaborn v0.14.0.\n",
      "\n",
      "Please adapt your code to use either `displot` (a figure-level function with\n",
      "similar flexibility) or `histplot` (an axes-level function for histograms).\n",
      "\n",
      "For a guide to updating your code to use the new functions, please see\n",
      "https://gist.github.com/mwaskom/de44147ed2974457ad6372750bbe5751\n",
      "\n",
      "  sns.distplot(data['MIN'])\n"
     ]
    },
    {
     "data": {
      "text/plain": [
       "<Axes: xlabel='MIN', ylabel='Density'>"
      ]
     },
     "execution_count": 75,
     "metadata": {},
     "output_type": "execute_result"
    },
    {
     "data": {
      "image/png": "[encoded data removed]",
      "text/plain": [
       "<Figure size 640x480 with 1 Axes>"
      ]
     },
     "metadata": {},
     "output_type": "display_data"
    }
   ],
   "source": [
    "# Column 3: MIN\n",
    "\n",
    "# MIN is the number of minutes played by the player. It is a numerical column. Let's see the distribution of the column.\n",
    "\n",
    "sns.distplot(data['MIN'])"
   ]
  },
  {
   "cell_type": "code",
   "execution_count": 76,
   "metadata": {},
   "outputs": [
    {
     "name": "stderr",
     "output_type": "stream",
     "text": [
      "C:\\Users\\Rajat\\AppData\\Local\\Temp\\ipykernel_27740\\2503199864.py:7: UserWarning: \n",
      "\n",
      "`distplot` is a deprecated function and will be removed in seaborn v0.14.0.\n",
      "\n",
      "Please adapt your code to use either `displot` (a figure-level function with\n",
      "similar flexibility) or `histplot` (an axes-level function for histograms).\n",
      "\n",
      "For a guide to updating your code to use the new functions, please see\n",
      "https://gist.github.com/mwaskom/de44147ed2974457ad6372750bbe5751\n",
      "\n",
      "  sns.distplot(data['MIN'])\n"
     ]
    },
    {
     "data": {
      "text/plain": [
       "<Axes: xlabel='MIN', ylabel='Density'>"
      ]
     },
     "execution_count": 76,
     "metadata": {},
     "output_type": "execute_result"
    },
    {
     "data": {
      "image/png": "[encoded data removed]",
      "text/plain": [
       "<Figure size 640x480 with 1 Axes>"
      ]
     },
     "metadata": {},
     "output_type": "display_data"
    }
   ],
   "source": [
    "# Removing outliers from the column MIN\n",
    "\n",
    "data = removeOutliers(data, 'MIN', 3)\n",
    "\n",
    "#distribution of the column MIN after removing outliers\n",
    "\n",
    "sns.distplot(data['MIN'])"
   ]
  },
  {
   "cell_type": "code",
   "execution_count": 77,
   "metadata": {},
   "outputs": [
    {
     "name": "stderr",
     "output_type": "stream",
     "text": [
      "C:\\Users\\Rajat\\AppData\\Local\\Temp\\ipykernel_27740\\3368029360.py:5: UserWarning: \n",
      "\n",
      "`distplot` is a deprecated function and will be removed in seaborn v0.14.0.\n",
      "\n",
      "Please adapt your code to use either `displot` (a figure-level function with\n",
      "similar flexibility) or `histplot` (an axes-level function for histograms).\n",
      "\n",
      "For a guide to updating your code to use the new functions, please see\n",
      "https://gist.github.com/mwaskom/de44147ed2974457ad6372750bbe5751\n",
      "\n",
      "  sns.distplot(data['PTS'])\n"
     ]
    },
    {
     "data": {
      "text/plain": [
       "<Axes: xlabel='PTS', ylabel='Density'>"
      ]
     },
     "execution_count": 77,
     "metadata": {},
     "output_type": "execute_result"
    },
    {
     "data": {
      "image/png": "[encoded data removed]",
      "text/plain": [
       "<Figure size 640x480 with 1 Axes>"
      ]
     },
     "metadata": {},
     "output_type": "display_data"
    }
   ],
   "source": [
    "# Column 4: PTS\n",
    "\n",
    "# PTS is the number of points scored by the player. It is a numerical column. Let's see the distribution of the column.\n",
    "\n",
    "sns.distplot(data['PTS'])"
   ]
  },
  {
   "cell_type": "code",
   "execution_count": 78,
   "metadata": {},
   "outputs": [],
   "source": [
    "# removing outliers from the column PTS\n",
    "\n",
    "data = removeOutliers(data, 'PTS', 3)\n"
   ]
  },
  {
   "cell_type": "code",
   "execution_count": 79,
   "metadata": {},
   "outputs": [
    {
     "name": "stderr",
     "output_type": "stream",
     "text": [
      "C:\\Users\\Rajat\\AppData\\Local\\Temp\\ipykernel_27740\\3313863225.py:3: UserWarning: \n",
      "\n",
      "`distplot` is a deprecated function and will be removed in seaborn v0.14.0.\n",
      "\n",
      "Please adapt your code to use either `displot` (a figure-level function with\n",
      "similar flexibility) or `histplot` (an axes-level function for histograms).\n",
      "\n",
      "For a guide to updating your code to use the new functions, please see\n",
      "https://gist.github.com/mwaskom/de44147ed2974457ad6372750bbe5751\n",
      "\n",
      "  sns.distplot(data['PTS'])\n"
     ]
    },
    {
     "data": {
      "text/plain": [
       "<Axes: xlabel='PTS', ylabel='Density'>"
      ]
     },
     "execution_count": 79,
     "metadata": {},
     "output_type": "execute_result"
    },
    {
     "data": {
      "image/png": "[encoded data removed]",
      "text/plain": [
       "<Figure size 640x480 with 1 Axes>"
      ]
     },
     "metadata": {},
     "output_type": "display_data"
    }
   ],
   "source": [
    "# distribution of the column PTS after removing outliers\n",
    "\n",
    "sns.distplot(data['PTS'])"
   ]
  },
  {
   "cell_type": "code",
   "execution_count": 80,
   "metadata": {},
   "outputs": [
    {
     "data": {
      "text/plain": [
       "'\\nFor the following columns, we will not remove the outliers because they are not actually outliers. They are just the players who have played very well in the season. So we will keep them.\\nBut some of the columns are dervied from other columns. So those columns will be removed.\\n\\nFGM\\tField Goals Made\\nFGA\\tField Goals Attempts\\nFG%\\tField Goals Percent\\n3P Made\\t3-Points Made\\n3PA\\t3-Points Attempts\\n3P%\\t3-Points Percent\\nFTM\\tFree Throw Made\\nFTA\\tFree Throw Attempts\\nFT%\\tFree Throw Percent\\n\\n'"
      ]
     },
     "execution_count": 80,
     "metadata": {},
     "output_type": "execute_result"
    }
   ],
   "source": [
    "\"\"\"\n",
    "For the following columns, we will not remove the outliers because they are not actually outliers. They are just the players who have played very well in the season. So we will keep them.\n",
    "But some of the columns are dervied from other columns. So those columns will be removed.\n",
    "\n",
    "FGM\tField Goals Made\n",
    "FGA\tField Goals Attempts\n",
    "FG%\tField Goals Percent\n",
    "3P Made\t3-Points Made\n",
    "3PA\t3-Points Attempts\n",
    "3P%\t3-Points Percent\n",
    "FTM\tFree Throw Made\n",
    "FTA\tFree Throw Attempts\n",
    "FT%\tFree Throw Percent\n",
    "\n",
    "\"\"\""
   ]
  },
  {
   "cell_type": "code",
   "execution_count": 81,
   "metadata": {},
   "outputs": [
    {
     "data": {
      "text/plain": [
       "count    7807.000000\n",
       "mean        2.688971\n",
       "std         1.481357\n",
       "min         0.300000\n",
       "25%         1.500000\n",
       "50%         2.400000\n",
       "75%         3.600000\n",
       "max         8.000000\n",
       "Name: FGM, dtype: float64"
      ]
     },
     "execution_count": 81,
     "metadata": {},
     "output_type": "execute_result"
    }
   ],
   "source": [
    "# column 5: FGM\n",
    "\n",
    "# describe the column FGM\n",
    "\n",
    "data['FGM'].describe()"
   ]
  },
  {
   "cell_type": "code",
   "execution_count": 82,
   "metadata": {},
   "outputs": [],
   "source": [
    "# Would be keeping FGA and FG% column and would be dropping FGM column since it is derived from FGA and FG%.\n",
    "\n",
    "data.drop('FGM', axis=1, inplace=True)"
   ]
  },
  {
   "cell_type": "code",
   "execution_count": 83,
   "metadata": {},
   "outputs": [
    {
     "data": {
      "text/plain": [
       "count    7807.000000\n",
       "mean        5.989010\n",
       "std         3.161862\n",
       "min         0.800000\n",
       "25%         3.500000\n",
       "50%         5.400000\n",
       "75%         7.800000\n",
       "max        18.200000\n",
       "Name: FGA, dtype: float64"
      ]
     },
     "execution_count": 83,
     "metadata": {},
     "output_type": "execute_result"
    }
   ],
   "source": [
    "# Column 6: FGA\n",
    "\n",
    "# describe the column FGA\n",
    "\n",
    "data['FGA'].describe()"
   ]
  },
  {
   "cell_type": "code",
   "execution_count": 84,
   "metadata": {},
   "outputs": [
    {
     "data": {
      "text/plain": [
       "count    7807.000000\n",
       "mean       44.511362\n",
       "std         6.112783\n",
       "min        21.300000\n",
       "25%        40.400000\n",
       "50%        44.300000\n",
       "75%        48.600000\n",
       "max        67.200000\n",
       "Name: FG%, dtype: float64"
      ]
     },
     "execution_count": 84,
     "metadata": {},
     "output_type": "execute_result"
    }
   ],
   "source": [
    "# Column 7: FG%\n",
    "\n",
    "# describe the column FG%\n",
    "\n",
    "data['FG%'].describe()"
   ]
  },
  {
   "cell_type": "code",
   "execution_count": 59,
   "metadata": {},
   "outputs": [],
   "source": [
    "# Column 8: 3P Made\n",
    "\n",
    "# This column is derived from 3PA and 3P%. So we will drop this column.\n",
    "\n",
    "data.drop('3P Made', axis=1, inplace=True)"
   ]
  },
  {
   "cell_type": "code",
   "execution_count": 60,
   "metadata": {},
   "outputs": [
    {
     "data": {
      "text/plain": [
       "count    7807.000000\n",
       "mean        0.795952\n",
       "std         1.050699\n",
       "min        -3.100000\n",
       "25%         0.100000\n",
       "50%         0.800000\n",
       "75%         1.500000\n",
       "max         4.700000\n",
       "Name: 3PA, dtype: float64"
      ]
     },
     "execution_count": 60,
     "metadata": {},
     "output_type": "execute_result"
    }
   ],
   "source": [
    "# Column 9: 3PA\n",
    "\n",
    "# describe the column 3PA\n",
    "\n",
    "data['3PA'].describe()"
   ]
  },
  {
   "cell_type": "code",
   "execution_count": 61,
   "metadata": {},
   "outputs": [
    {
     "name": "stderr",
     "output_type": "stream",
     "text": [
      "C:\\Users\\Rajat\\AppData\\Local\\Temp\\ipykernel_27740\\2934574578.py:5: UserWarning: \n",
      "\n",
      "`distplot` is a deprecated function and will be removed in seaborn v0.14.0.\n",
      "\n",
      "Please adapt your code to use either `displot` (a figure-level function with\n",
      "similar flexibility) or `histplot` (an axes-level function for histograms).\n",
      "\n",
      "For a guide to updating your code to use the new functions, please see\n",
      "https://gist.github.com/mwaskom/de44147ed2974457ad6372750bbe5751\n",
      "\n",
      "  sns.distplot(data['3PA'])\n"
     ]
    },
    {
     "data": {
      "text/plain": [
       "<Axes: xlabel='3PA', ylabel='Density'>"
      ]
     },
     "execution_count": 61,
     "metadata": {},
     "output_type": "execute_result"
    },
    {
     "data": {
      "image/png": "[encoded data removed]",
      "text/plain": [
       "<Figure size 640x480 with 1 Axes>"
      ]
     },
     "metadata": {},
     "output_type": "display_data"
    }
   ],
   "source": [
    "# The data for 3PA looks incorrect since how can the number of attempts be less than 0. \n",
    "\n",
    "# Distribution of 3PA\n",
    "\n",
    "sns.distplot(data['3PA'])"
   ]
  },
  {
   "cell_type": "code",
   "execution_count": 62,
   "metadata": {},
   "outputs": [
    {
     "data": {
      "text/plain": [
       "0.21006788779300628"
      ]
     },
     "execution_count": 62,
     "metadata": {},
     "output_type": "execute_result"
    }
   ],
   "source": [
    "# Percentage of rows with 3PA less than 0\n",
    "\n",
    "len(data[data['3PA'] < 0])/len(data)"
   ]
  },
  {
   "cell_type": "code",
   "execution_count": 89,
   "metadata": {},
   "outputs": [],
   "source": [
    "# Since this column has a very high percentage of rows that are less than zero. It doesn't align with the nba logic. Most likely the column would be dropeed.\n"
   ]
  },
  {
   "cell_type": "code",
   "execution_count": 90,
   "metadata": {},
   "outputs": [
    {
     "name": "stderr",
     "output_type": "stream",
     "text": [
      "C:\\Users\\Rajat\\AppData\\Local\\Temp\\ipykernel_27740\\1132349443.py:9: UserWarning: \n",
      "\n",
      "`distplot` is a deprecated function and will be removed in seaborn v0.14.0.\n",
      "\n",
      "Please adapt your code to use either `displot` (a figure-level function with\n",
      "similar flexibility) or `histplot` (an axes-level function for histograms).\n",
      "\n",
      "For a guide to updating your code to use the new functions, please see\n",
      "https://gist.github.com/mwaskom/de44147ed2974457ad6372750bbe5751\n",
      "\n",
      "  sns.distplot(data['3P%'])\n"
     ]
    },
    {
     "data": {
      "text/plain": [
       "<Axes: xlabel='3P%', ylabel='Density'>"
      ]
     },
     "execution_count": 90,
     "metadata": {},
     "output_type": "execute_result"
    },
    {
     "data": {
      "image/png": "[encoded data removed]",
      "text/plain": [
       "<Figure size 640x480 with 1 Axes>"
      ]
     },
     "metadata": {},
     "output_type": "display_data"
    }
   ],
   "source": [
    "# Column 10: 3P%\n",
    "\n",
    "# describe the column 3P%\n",
    "\n",
    "data['3P%'].describe()\n",
    "\n",
    "# plot the distribution of 3P%\n",
    "\n",
    "sns.distplot(data['3P%'])"
   ]
  },
  {
   "cell_type": "code",
   "execution_count": 91,
   "metadata": {},
   "outputs": [
    {
     "data": {
      "text/plain": [
       "0.11079800179326246"
      ]
     },
     "execution_count": 91,
     "metadata": {},
     "output_type": "execute_result"
    }
   ],
   "source": [
    "# percentage of rows with 3P% less than 0\n",
    "\n",
    "len(data[data['3P%'] < 0])/len(data)"
   ]
  },
  {
   "cell_type": "code",
   "execution_count": 92,
   "metadata": {},
   "outputs": [],
   "source": [
    "# dropping the column 3P Made since 21 percent below 0 whereas 3P% has 11 percent values before 0.\n",
    "\n",
    "data.drop('3P Made', axis=1, inplace=True)"
   ]
  },
  {
   "cell_type": "code",
   "execution_count": 93,
   "metadata": {},
   "outputs": [
    {
     "data": {
      "text/html": [
       "<div>\n",
       "<style scoped>\n",
       "    .dataframe tbody tr th:only-of-type {\n",
       "        vertical-align: middle;\n",
       "    }\n",
       "\n",
       "    .dataframe tbody tr th {\n",
       "        vertical-align: top;\n",
       "    }\n",
       "\n",
       "    .dataframe thead th {\n",
       "        text-align: right;\n",
       "    }\n",
       "</style>\n",
       "<table border=\"1\" class=\"dataframe\">\n",
       "  <thead>\n",
       "    <tr style=\"text-align: right;\">\n",
       "      <th></th>\n",
       "      <th>FTM</th>\n",
       "      <th>FTA</th>\n",
       "      <th>FT%</th>\n",
       "    </tr>\n",
       "  </thead>\n",
       "  <tbody>\n",
       "    <tr>\n",
       "      <th>count</th>\n",
       "      <td>7807.000000</td>\n",
       "      <td>7807.000000</td>\n",
       "      <td>7807.000000</td>\n",
       "    </tr>\n",
       "    <tr>\n",
       "      <th>mean</th>\n",
       "      <td>1.336134</td>\n",
       "      <td>1.873601</td>\n",
       "      <td>71.249673</td>\n",
       "    </tr>\n",
       "    <tr>\n",
       "      <th>std</th>\n",
       "      <td>0.830883</td>\n",
       "      <td>1.130238</td>\n",
       "      <td>10.375056</td>\n",
       "    </tr>\n",
       "    <tr>\n",
       "      <th>min</th>\n",
       "      <td>0.000000</td>\n",
       "      <td>0.000000</td>\n",
       "      <td>-13.300000</td>\n",
       "    </tr>\n",
       "    <tr>\n",
       "      <th>25%</th>\n",
       "      <td>0.700000</td>\n",
       "      <td>1.000000</td>\n",
       "      <td>64.900000</td>\n",
       "    </tr>\n",
       "    <tr>\n",
       "      <th>50%</th>\n",
       "      <td>1.200000</td>\n",
       "      <td>1.700000</td>\n",
       "      <td>71.300000</td>\n",
       "    </tr>\n",
       "    <tr>\n",
       "      <th>75%</th>\n",
       "      <td>1.800000</td>\n",
       "      <td>2.600000</td>\n",
       "      <td>77.400000</td>\n",
       "    </tr>\n",
       "    <tr>\n",
       "      <th>max</th>\n",
       "      <td>5.500000</td>\n",
       "      <td>8.200000</td>\n",
       "      <td>168.900000</td>\n",
       "    </tr>\n",
       "  </tbody>\n",
       "</table>\n",
       "</div>"
      ],
      "text/plain": [
       "               FTM          FTA          FT%\n",
       "count  7807.000000  7807.000000  7807.000000\n",
       "mean      1.336134     1.873601    71.249673\n",
       "std       0.830883     1.130238    10.375056\n",
       "min       0.000000     0.000000   -13.300000\n",
       "25%       0.700000     1.000000    64.900000\n",
       "50%       1.200000     1.700000    71.300000\n",
       "75%       1.800000     2.600000    77.400000\n",
       "max       5.500000     8.200000   168.900000"
      ]
     },
     "execution_count": 93,
     "metadata": {},
     "output_type": "execute_result"
    }
   ],
   "source": [
    "# Column 11,12,13: FTM, FTA, FT%\n",
    "\n",
    "# describe the column FTM,FTA,FT%\n",
    "\n",
    "data[['FTM', 'FTA', 'FT%']].describe()"
   ]
  },
  {
   "cell_type": "code",
   "execution_count": 96,
   "metadata": {},
   "outputs": [
    {
     "name": "stderr",
     "output_type": "stream",
     "text": [
      "C:\\Users\\Rajat\\AppData\\Local\\Temp\\ipykernel_27740\\1839414144.py:11: UserWarning: \n",
      "\n",
      "`distplot` is a deprecated function and will be removed in seaborn v0.14.0.\n",
      "\n",
      "Please adapt your code to use either `displot` (a figure-level function with\n",
      "similar flexibility) or `histplot` (an axes-level function for histograms).\n",
      "\n",
      "For a guide to updating your code to use the new functions, please see\n",
      "https://gist.github.com/mwaskom/de44147ed2974457ad6372750bbe5751\n",
      "\n",
      "  sns.distplot(FT_percent)\n"
     ]
    },
    {
     "data": {
      "text/plain": [
       "count    7800.000000\n",
       "mean       71.217278\n",
       "std        12.138001\n",
       "min         0.000000\n",
       "25%        63.636364\n",
       "50%        70.833333\n",
       "75%        77.777778\n",
       "max       133.333333\n",
       "dtype: float64"
      ]
     },
     "execution_count": 96,
     "metadata": {},
     "output_type": "execute_result"
    },
    {
     "data": {
      "image/png": "[encoded data removed]",
      "text/plain": [
       "<Figure size 640x480 with 1 Axes>"
      ]
     },
     "metadata": {},
     "output_type": "display_data"
    }
   ],
   "source": [
    "# How can the FT % be less than 0, when FTM and FTA is more than zero ? \n",
    "\n",
    "# Recalculating the FT% column\n",
    "\n",
    "FT_percent = 100* data['FTM']/data['FTA']\n",
    "\n",
    "\n",
    "\n",
    "# plot the distribution of the recalculated FT% column\n",
    "\n",
    "sns.distplot(FT_percent)\n",
    "\n",
    "# describe the recalculated FT% column\n",
    "\n",
    "FT_percent.describe()"
   ]
  },
  {
   "cell_type": "code",
   "execution_count": 97,
   "metadata": {},
   "outputs": [],
   "source": [
    "data['FT%'] = FT_percent"
   ]
  },
  {
   "cell_type": "code",
   "execution_count": 98,
   "metadata": {},
   "outputs": [],
   "source": [
    "# Removing the values of FT% that are less than 0 and greater than 100\n",
    "\n",
    "data = data[(data['FT%'] > 0) & (data['FT%'] < 100)]"
   ]
  },
  {
   "cell_type": "code",
   "execution_count": 99,
   "metadata": {},
   "outputs": [],
   "source": [
    "# dropping the column FTM since it can be derived from FT% and FTA\n",
    "\n",
    "data.drop('FTM', axis=1, inplace=True)"
   ]
  },
  {
   "cell_type": "code",
   "execution_count": null,
   "metadata": {},
   "outputs": [],
   "source": [
    "\"\"\"\n",
    "OREB Offensive Rebounds\n",
    "DREB Defensive Rebounds\n",
    "REB\tRebounds\n",
    "AST\tAssists\n",
    "STL\tSteals\n",
    "BLK\tBlocks\n",
    "TOV\tTurnovers\n",
    "\"\"\""
   ]
  },
  {
   "cell_type": "code",
   "execution_count": 102,
   "metadata": {},
   "outputs": [
    {
     "data": {
      "text/plain": [
       "count    7510.000000\n",
       "mean        1.078828\n",
       "std         0.752427\n",
       "min         0.000000\n",
       "50%         0.900000\n",
       "90%         2.100000\n",
       "95%         2.500000\n",
       "max         5.400000\n",
       "Name: OREB, dtype: float64"
      ]
     },
     "execution_count": 102,
     "metadata": {},
     "output_type": "execute_result"
    }
   ],
   "source": [
    "# Column 14: OREB\n",
    "\n",
    "# describe the column OREB with 90 and 95 percentile\n",
    "\n",
    "data['OREB'].describe(percentiles=[.90, .95])"
   ]
  },
  {
   "cell_type": "code",
   "execution_count": 101,
   "metadata": {},
   "outputs": [
    {
     "name": "stderr",
     "output_type": "stream",
     "text": [
      "C:\\Users\\Rajat\\AppData\\Local\\Temp\\ipykernel_27740\\1036914892.py:3: UserWarning: \n",
      "\n",
      "`distplot` is a deprecated function and will be removed in seaborn v0.14.0.\n",
      "\n",
      "Please adapt your code to use either `displot` (a figure-level function with\n",
      "similar flexibility) or `histplot` (an axes-level function for histograms).\n",
      "\n",
      "For a guide to updating your code to use the new functions, please see\n",
      "https://gist.github.com/mwaskom/de44147ed2974457ad6372750bbe5751\n",
      "\n",
      "  sns.distplot(data['OREB'])\n"
     ]
    },
    {
     "data": {
      "text/plain": [
       "<Axes: xlabel='OREB', ylabel='Density'>"
      ]
     },
     "execution_count": 101,
     "metadata": {},
     "output_type": "execute_result"
    },
    {
     "data": {
      "image/png": "[encoded data removed]",
      "text/plain": [
       "<Figure size 640x480 with 1 Axes>"
      ]
     },
     "metadata": {},
     "output_type": "display_data"
    }
   ],
   "source": [
    "# plot the distribution of OREB\n",
    "\n",
    "sns.distplot(data['OREB'])\n"
   ]
  },
  {
   "cell_type": "code",
   "execution_count": 103,
   "metadata": {},
   "outputs": [],
   "source": [
    "# removing outliers from the column OREB\n",
    "\n",
    "data = removeOutliers(data, 'OREB', 3)\n"
   ]
  },
  {
   "cell_type": "code",
   "execution_count": 105,
   "metadata": {},
   "outputs": [
    {
     "name": "stderr",
     "output_type": "stream",
     "text": [
      "C:\\Users\\Rajat\\AppData\\Local\\Temp\\ipykernel_27740\\1241178638.py:7: UserWarning: \n",
      "\n",
      "`distplot` is a deprecated function and will be removed in seaborn v0.14.0.\n",
      "\n",
      "Please adapt your code to use either `displot` (a figure-level function with\n",
      "similar flexibility) or `histplot` (an axes-level function for histograms).\n",
      "\n",
      "For a guide to updating your code to use the new functions, please see\n",
      "https://gist.github.com/mwaskom/de44147ed2974457ad6372750bbe5751\n",
      "\n",
      "  sns.distplot(data['DREB'])\n"
     ]
    },
    {
     "data": {
      "text/plain": [
       "count    7414.000000\n",
       "mean        2.101039\n",
       "std         1.224351\n",
       "min         0.200000\n",
       "50%         1.900000\n",
       "90%         3.800000\n",
       "95%         4.500000\n",
       "max         8.800000\n",
       "Name: DREB, dtype: float64"
      ]
     },
     "execution_count": 105,
     "metadata": {},
     "output_type": "execute_result"
    },
    {
     "data": {
      "image/png": "[encoded data removed]",
      "text/plain": [
       "<Figure size 640x480 with 1 Axes>"
      ]
     },
     "metadata": {},
     "output_type": "display_data"
    }
   ],
   "source": [
    "# Column 15: DREB\n",
    "\n",
    "\n",
    "\n",
    "# plot the distribution of DREB\n",
    "\n",
    "sns.distplot(data['DREB'])\n",
    "\n",
    "# describe the column DREB with 90 and 95 percentile\n",
    "\n",
    "data['DREB'].describe(percentiles=[.90, .95])"
   ]
  },
  {
   "cell_type": "code",
   "execution_count": 106,
   "metadata": {},
   "outputs": [],
   "source": [
    "# removing outliers from the column DREB\n",
    "\n",
    "data = removeOutliers(data, 'DREB', 3)"
   ]
  },
  {
   "cell_type": "code",
   "execution_count": 107,
   "metadata": {},
   "outputs": [],
   "source": [
    "# Column 16: REB\n",
    "\n",
    "# rebound is the sum of OREB and DREB. So we will drop the column REB\n",
    "\n",
    "data.drop('REB', axis=1, inplace=True)"
   ]
  },
  {
   "cell_type": "code",
   "execution_count": 108,
   "metadata": {},
   "outputs": [
    {
     "name": "stderr",
     "output_type": "stream",
     "text": [
      "C:\\Users\\Rajat\\AppData\\Local\\Temp\\ipykernel_27740\\3508918982.py:5: UserWarning: \n",
      "\n",
      "`distplot` is a deprecated function and will be removed in seaborn v0.14.0.\n",
      "\n",
      "Please adapt your code to use either `displot` (a figure-level function with\n",
      "similar flexibility) or `histplot` (an axes-level function for histograms).\n",
      "\n",
      "For a guide to updating your code to use the new functions, please see\n",
      "https://gist.github.com/mwaskom/de44147ed2974457ad6372750bbe5751\n",
      "\n",
      "  sns.distplot(data['AST'])\n"
     ]
    },
    {
     "data": {
      "text/plain": [
       "count    7334.000000\n",
       "mean        1.576043\n",
       "std         1.280549\n",
       "min         0.000000\n",
       "50%         1.200000\n",
       "90%         3.300000\n",
       "95%         4.100000\n",
       "max        10.500000\n",
       "Name: AST, dtype: float64"
      ]
     },
     "execution_count": 108,
     "metadata": {},
     "output_type": "execute_result"
    },
    {
     "data": {
      "image/png": "[encoded data removed]",
      "text/plain": [
       "<Figure size 640x480 with 1 Axes>"
      ]
     },
     "metadata": {},
     "output_type": "display_data"
    }
   ],
   "source": [
    "# Column 17: AST\n",
    "\n",
    "# plot the distribution of AST\n",
    "\n",
    "sns.distplot(data['AST'])\n",
    "\n",
    "\n",
    "# describe the column AST with 90 and 95 percentile\n",
    "\n",
    "data['AST'].describe(percentiles=[.90, .95])"
   ]
  },
  {
   "cell_type": "code",
   "execution_count": 109,
   "metadata": {},
   "outputs": [],
   "source": [
    "# removing outliers from the column AST\n",
    "\n",
    "data = removeOutliers(data, 'AST', 3)\n"
   ]
  },
  {
   "cell_type": "code",
   "execution_count": 110,
   "metadata": {},
   "outputs": [
    {
     "name": "stderr",
     "output_type": "stream",
     "text": [
      "C:\\Users\\Rajat\\AppData\\Local\\Temp\\ipykernel_27740\\836269272.py:5: UserWarning: \n",
      "\n",
      "`distplot` is a deprecated function and will be removed in seaborn v0.14.0.\n",
      "\n",
      "Please adapt your code to use either `displot` (a figure-level function with\n",
      "similar flexibility) or `histplot` (an axes-level function for histograms).\n",
      "\n",
      "For a guide to updating your code to use the new functions, please see\n",
      "https://gist.github.com/mwaskom/de44147ed2974457ad6372750bbe5751\n",
      "\n",
      "  sns.distplot(data['STL'])\n"
     ]
    },
    {
     "data": {
      "text/plain": [
       "count    7219.000000\n",
       "mean        0.617163\n",
       "std         0.361921\n",
       "min         0.000000\n",
       "50%         0.600000\n",
       "90%         1.100000\n",
       "95%         1.300000\n",
       "max         2.400000\n",
       "Name: STL, dtype: float64"
      ]
     },
     "execution_count": 110,
     "metadata": {},
     "output_type": "execute_result"
    },
    {
     "data": {
      "image/png": "[encoded data removed]",
      "text/plain": [
       "<Figure size 640x480 with 1 Axes>"
      ]
     },
     "metadata": {},
     "output_type": "display_data"
    }
   ],
   "source": [
    "# Column 18: STL\n",
    "\n",
    "# plot the distribution of STL\n",
    "\n",
    "sns.distplot(data['STL'])\n",
    "\n",
    "\n",
    "\n",
    "# describe the column STL with 90 and 95 percentile\n",
    "\n",
    "data['STL'].describe(percentiles=[.90, .95])\n"
   ]
  },
  {
   "cell_type": "code",
   "execution_count": 113,
   "metadata": {},
   "outputs": [],
   "source": [
    "# I am not a basketball guy... So for now I will keep the comumn as it is. What I comprend that steals are in decimal number. \n",
    "\n",
    "# Mostly with the google search, I found that the number of steals is in decimal, but I will still remove the outliers.\n",
    "\n"
   ]
  },
  {
   "cell_type": "code",
   "execution_count": 114,
   "metadata": {},
   "outputs": [],
   "source": [
    "# removing outliers from the column STL\n",
    "\n",
    "data = removeOutliers(data, 'STL', 3)\n"
   ]
  },
  {
   "cell_type": "code",
   "execution_count": 115,
   "metadata": {},
   "outputs": [
    {
     "name": "stderr",
     "output_type": "stream",
     "text": [
      "C:\\Users\\Rajat\\AppData\\Local\\Temp\\ipykernel_27740\\3070814440.py:5: UserWarning: \n",
      "\n",
      "`distplot` is a deprecated function and will be removed in seaborn v0.14.0.\n",
      "\n",
      "Please adapt your code to use either `displot` (a figure-level function with\n",
      "similar flexibility) or `histplot` (an axes-level function for histograms).\n",
      "\n",
      "For a guide to updating your code to use the new functions, please see\n",
      "https://gist.github.com/mwaskom/de44147ed2974457ad6372750bbe5751\n",
      "\n",
      "  sns.distplot(data['BLK'])\n"
     ]
    },
    {
     "data": {
      "text/plain": [
       "count    7157.000000\n",
       "mean        0.230027\n",
       "std         0.599109\n",
       "min       -17.900000\n",
       "50%         0.200000\n",
       "90%         0.600000\n",
       "95%         0.700000\n",
       "max        14.700000\n",
       "Name: BLK, dtype: float64"
      ]
     },
     "execution_count": 115,
     "metadata": {},
     "output_type": "execute_result"
    },
    {
     "data": {
      "image/png": "[encoded data removed]",
      "text/plain": [
       "<Figure size 640x480 with 1 Axes>"
      ]
     },
     "metadata": {},
     "output_type": "display_data"
    }
   ],
   "source": [
    "# Column 19: BLK\n",
    "\n",
    "# plot the distribution of BLK\n",
    "\n",
    "sns.distplot(data['BLK'])\n",
    "\n",
    "\n",
    "# describe the column BLK with 90 and 95 percentile\n",
    "\n",
    "data['BLK'].describe(percentiles=[.90, .95])\n"
   ]
  },
  {
   "cell_type": "code",
   "execution_count": 116,
   "metadata": {},
   "outputs": [],
   "source": [
    "# Same as STL, removing the outliers from the column BLK\n",
    "\n",
    "data = removeOutliers(data, 'BLK', 3)"
   ]
  },
  {
   "cell_type": "code",
   "execution_count": 117,
   "metadata": {},
   "outputs": [
    {
     "name": "stderr",
     "output_type": "stream",
     "text": [
      "C:\\Users\\Rajat\\AppData\\Local\\Temp\\ipykernel_27740\\981592734.py:5: UserWarning: \n",
      "\n",
      "`distplot` is a deprecated function and will be removed in seaborn v0.14.0.\n",
      "\n",
      "Please adapt your code to use either `displot` (a figure-level function with\n",
      "similar flexibility) or `histplot` (an axes-level function for histograms).\n",
      "\n",
      "For a guide to updating your code to use the new functions, please see\n",
      "https://gist.github.com/mwaskom/de44147ed2974457ad6372750bbe5751\n",
      "\n",
      "  sns.distplot(data['TOV'])\n"
     ]
    },
    {
     "data": {
      "text/plain": [
       "count    7084.000000\n",
       "mean        1.190740\n",
       "std         0.615781\n",
       "min         0.100000\n",
       "50%         1.100000\n",
       "90%         2.000000\n",
       "95%         2.400000\n",
       "max         4.200000\n",
       "Name: TOV, dtype: float64"
      ]
     },
     "execution_count": 117,
     "metadata": {},
     "output_type": "execute_result"
    },
    {
     "data": {
      "image/png": "[encoded data removed]",
      "text/plain": [
       "<Figure size 640x480 with 1 Axes>"
      ]
     },
     "metadata": {},
     "output_type": "display_data"
    }
   ],
   "source": [
    "# Column 20: TOV\n",
    "\n",
    "# plot the distribution of TOV\n",
    "\n",
    "sns.distplot(data['TOV'])\n",
    "\n",
    "\n",
    "# describe the column TOV with 90 and 95 percentile\n",
    "\n",
    "data['TOV'].describe(percentiles=[.90, .95])"
   ]
  },
  {
   "cell_type": "code",
   "execution_count": 118,
   "metadata": {},
   "outputs": [],
   "source": [
    "# removing outliers from the column TOV\n",
    "\n",
    "data = removeOutliers(data, 'TOV', 3)"
   ]
  },
  {
   "cell_type": "code",
   "execution_count": 120,
   "metadata": {},
   "outputs": [
    {
     "data": {
      "text/html": [
       "<div>\n",
       "<style scoped>\n",
       "    .dataframe tbody tr th:only-of-type {\n",
       "        vertical-align: middle;\n",
       "    }\n",
       "\n",
       "    .dataframe tbody tr th {\n",
       "        vertical-align: top;\n",
       "    }\n",
       "\n",
       "    .dataframe thead th {\n",
       "        text-align: right;\n",
       "    }\n",
       "</style>\n",
       "<table border=\"1\" class=\"dataframe\">\n",
       "  <thead>\n",
       "    <tr style=\"text-align: right;\">\n",
       "      <th></th>\n",
       "      <th>GP</th>\n",
       "      <th>MIN</th>\n",
       "      <th>PTS</th>\n",
       "      <th>FGA</th>\n",
       "      <th>FG%</th>\n",
       "      <th>3PA</th>\n",
       "      <th>3P%</th>\n",
       "      <th>FTA</th>\n",
       "      <th>FT%</th>\n",
       "      <th>OREB</th>\n",
       "      <th>DREB</th>\n",
       "      <th>AST</th>\n",
       "      <th>STL</th>\n",
       "      <th>BLK</th>\n",
       "      <th>TOV</th>\n",
       "      <th>TARGET_5Yrs</th>\n",
       "    </tr>\n",
       "  </thead>\n",
       "  <tbody>\n",
       "    <tr>\n",
       "      <th>count</th>\n",
       "      <td>7021.000000</td>\n",
       "      <td>7021.000000</td>\n",
       "      <td>7021.000000</td>\n",
       "      <td>7021.000000</td>\n",
       "      <td>7021.000000</td>\n",
       "      <td>7021.000000</td>\n",
       "      <td>7021.000000</td>\n",
       "      <td>7021.000000</td>\n",
       "      <td>7021.000000</td>\n",
       "      <td>7021.000000</td>\n",
       "      <td>7021.000000</td>\n",
       "      <td>7021.000000</td>\n",
       "      <td>7021.000000</td>\n",
       "      <td>7021.000000</td>\n",
       "      <td>7021.000000</td>\n",
       "      <td>7021.000000</td>\n",
       "    </tr>\n",
       "    <tr>\n",
       "      <th>mean</th>\n",
       "      <td>61.806580</td>\n",
       "      <td>17.470930</td>\n",
       "      <td>6.743527</td>\n",
       "      <td>5.799388</td>\n",
       "      <td>44.603020</td>\n",
       "      <td>0.766429</td>\n",
       "      <td>19.018416</td>\n",
       "      <td>1.829882</td>\n",
       "      <td>70.009777</td>\n",
       "      <td>1.020923</td>\n",
       "      <td>2.022931</td>\n",
       "      <td>1.455434</td>\n",
       "      <td>0.601211</td>\n",
       "      <td>0.228187</td>\n",
       "      <td>1.170702</td>\n",
       "      <td>0.831648</td>\n",
       "    </tr>\n",
       "    <tr>\n",
       "      <th>std</th>\n",
       "      <td>15.940529</td>\n",
       "      <td>7.238249</td>\n",
       "      <td>3.480422</td>\n",
       "      <td>2.933459</td>\n",
       "      <td>5.912884</td>\n",
       "      <td>1.034420</td>\n",
       "      <td>15.646956</td>\n",
       "      <td>1.033227</td>\n",
       "      <td>10.406656</td>\n",
       "      <td>0.659128</td>\n",
       "      <td>1.110593</td>\n",
       "      <td>1.068150</td>\n",
       "      <td>0.338494</td>\n",
       "      <td>0.324913</td>\n",
       "      <td>0.580127</td>\n",
       "      <td>0.374205</td>\n",
       "    </tr>\n",
       "    <tr>\n",
       "      <th>min</th>\n",
       "      <td>12.000000</td>\n",
       "      <td>3.300000</td>\n",
       "      <td>0.900000</td>\n",
       "      <td>0.900000</td>\n",
       "      <td>25.700000</td>\n",
       "      <td>-3.100000</td>\n",
       "      <td>-38.500000</td>\n",
       "      <td>0.200000</td>\n",
       "      <td>25.000000</td>\n",
       "      <td>0.000000</td>\n",
       "      <td>0.200000</td>\n",
       "      <td>0.000000</td>\n",
       "      <td>0.000000</td>\n",
       "      <td>-1.500000</td>\n",
       "      <td>0.100000</td>\n",
       "      <td>0.000000</td>\n",
       "    </tr>\n",
       "    <tr>\n",
       "      <th>25%</th>\n",
       "      <td>51.000000</td>\n",
       "      <td>11.900000</td>\n",
       "      <td>4.100000</td>\n",
       "      <td>3.500000</td>\n",
       "      <td>40.600000</td>\n",
       "      <td>0.100000</td>\n",
       "      <td>8.200000</td>\n",
       "      <td>1.000000</td>\n",
       "      <td>63.414634</td>\n",
       "      <td>0.500000</td>\n",
       "      <td>1.200000</td>\n",
       "      <td>0.600000</td>\n",
       "      <td>0.300000</td>\n",
       "      <td>0.100000</td>\n",
       "      <td>0.700000</td>\n",
       "      <td>1.000000</td>\n",
       "    </tr>\n",
       "    <tr>\n",
       "      <th>50%</th>\n",
       "      <td>62.000000</td>\n",
       "      <td>16.400000</td>\n",
       "      <td>6.100000</td>\n",
       "      <td>5.300000</td>\n",
       "      <td>44.400000</td>\n",
       "      <td>0.800000</td>\n",
       "      <td>18.900000</td>\n",
       "      <td>1.600000</td>\n",
       "      <td>70.000000</td>\n",
       "      <td>0.900000</td>\n",
       "      <td>1.800000</td>\n",
       "      <td>1.200000</td>\n",
       "      <td>0.500000</td>\n",
       "      <td>0.200000</td>\n",
       "      <td>1.100000</td>\n",
       "      <td>1.000000</td>\n",
       "    </tr>\n",
       "    <tr>\n",
       "      <th>75%</th>\n",
       "      <td>73.000000</td>\n",
       "      <td>22.100000</td>\n",
       "      <td>8.900000</td>\n",
       "      <td>7.500000</td>\n",
       "      <td>48.600000</td>\n",
       "      <td>1.500000</td>\n",
       "      <td>29.700000</td>\n",
       "      <td>2.500000</td>\n",
       "      <td>76.923077</td>\n",
       "      <td>1.400000</td>\n",
       "      <td>2.700000</td>\n",
       "      <td>2.000000</td>\n",
       "      <td>0.800000</td>\n",
       "      <td>0.400000</td>\n",
       "      <td>1.500000</td>\n",
       "      <td>1.000000</td>\n",
       "    </tr>\n",
       "    <tr>\n",
       "      <th>max</th>\n",
       "      <td>113.000000</td>\n",
       "      <td>45.100000</td>\n",
       "      <td>18.800000</td>\n",
       "      <td>17.400000</td>\n",
       "      <td>67.200000</td>\n",
       "      <td>4.400000</td>\n",
       "      <td>72.800000</td>\n",
       "      <td>7.000000</td>\n",
       "      <td>96.774194</td>\n",
       "      <td>3.300000</td>\n",
       "      <td>5.700000</td>\n",
       "      <td>5.400000</td>\n",
       "      <td>1.700000</td>\n",
       "      <td>2.000000</td>\n",
       "      <td>3.000000</td>\n",
       "      <td>1.000000</td>\n",
       "    </tr>\n",
       "  </tbody>\n",
       "</table>\n",
       "</div>"
      ],
      "text/plain": [
       "                GP          MIN          PTS          FGA          FG%  \\\n",
       "count  7021.000000  7021.000000  7021.000000  7021.000000  7021.000000   \n",
       "mean     61.806580    17.470930     6.743527     5.799388    44.603020   \n",
       "std      15.940529     7.238249     3.480422     2.933459     5.912884   \n",
       "min      12.000000     3.300000     0.900000     0.900000    25.700000   \n",
       "25%      51.000000    11.900000     4.100000     3.500000    40.600000   \n",
       "50%      62.000000    16.400000     6.100000     5.300000    44.400000   \n",
       "75%      73.000000    22.100000     8.900000     7.500000    48.600000   \n",
       "max     113.000000    45.100000    18.800000    17.400000    67.200000   \n",
       "\n",
       "               3PA          3P%          FTA          FT%         OREB  \\\n",
       "count  7021.000000  7021.000000  7021.000000  7021.000000  7021.000000   \n",
       "mean      0.766429    19.018416     1.829882    70.009777     1.020923   \n",
       "std       1.034420    15.646956     1.033227    10.406656     0.659128   \n",
       "min      -3.100000   -38.500000     0.200000    25.000000     0.000000   \n",
       "25%       0.100000     8.200000     1.000000    63.414634     0.500000   \n",
       "50%       0.800000    18.900000     1.600000    70.000000     0.900000   \n",
       "75%       1.500000    29.700000     2.500000    76.923077     1.400000   \n",
       "max       4.400000    72.800000     7.000000    96.774194     3.300000   \n",
       "\n",
       "              DREB          AST          STL          BLK          TOV  \\\n",
       "count  7021.000000  7021.000000  7021.000000  7021.000000  7021.000000   \n",
       "mean      2.022931     1.455434     0.601211     0.228187     1.170702   \n",
       "std       1.110593     1.068150     0.338494     0.324913     0.580127   \n",
       "min       0.200000     0.000000     0.000000    -1.500000     0.100000   \n",
       "25%       1.200000     0.600000     0.300000     0.100000     0.700000   \n",
       "50%       1.800000     1.200000     0.500000     0.200000     1.100000   \n",
       "75%       2.700000     2.000000     0.800000     0.400000     1.500000   \n",
       "max       5.700000     5.400000     1.700000     2.000000     3.000000   \n",
       "\n",
       "       TARGET_5Yrs  \n",
       "count  7021.000000  \n",
       "mean      0.831648  \n",
       "std       0.374205  \n",
       "min       0.000000  \n",
       "25%       1.000000  \n",
       "50%       1.000000  \n",
       "75%       1.000000  \n",
       "max       1.000000  "
      ]
     },
     "execution_count": 120,
     "metadata": {},
     "output_type": "execute_result"
    }
   ],
   "source": [
    "# Describing the entire dataset\n",
    "\n",
    "data.describe()"
   ]
  },
  {
   "cell_type": "code",
   "execution_count": 121,
   "metadata": {},
   "outputs": [],
   "source": [
    "# Saving the intermediate dataset to the data/interim folder\n",
    "\n",
    "data.to_csv('../data/interim/nba_train_interim.csv', index=False)\n"
   ]
  },
  {
   "cell_type": "code",
   "execution_count": null,
   "metadata": {},
   "outputs": [],
   "source": []
  }
 ],
 "metadata": {
  "kernelspec": {
   "display_name": ".venv",
   "language": "python",
   "name": "python3"
  },
  "language_info": {
   "codemirror_mode": {
    "name": "ipython",
    "version": 3
   },
   "file_extension": ".py",
   "mimetype": "text/x-python",
   "name": "python",
   "nbconvert_exporter": "python",
   "pygments_lexer": "ipython3",
   "version": "3.10.5"
  },
  "orig_nbformat": 4
 },
 "nbformat": 4,
 "nbformat_minor": 2
}
